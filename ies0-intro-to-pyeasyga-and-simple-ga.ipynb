{
 "cells": [
  {
   "cell_type": "code",
   "execution_count": 1,
   "metadata": {},
   "outputs": [
    {
     "name": "stdout",
     "output_type": "stream",
     "text": [
      "The pair of fruits with the highest nutritional value is: [('pear', 50), ('cashew', 50)]\n"
     ]
    }
   ],
   "source": [
    "\"\"\"Introduction to Simple Genetic Algorithm (GA) and the pyeasyga.\"\"\"\n",
    "\n",
    "# Import pyeasyga\n",
    "from pyeasyga import pyeasyga\n",
    "\n",
    "# Fruit options and their nutritional value\n",
    "data = [('apple', 35), ('orange', 40), ('pear', 50),\n",
    "        ('grape', 20), ('banana', 40), ('cashew', 50)]\n",
    "\n",
    "# Initialize genetic algorithm\n",
    "ga = pyeasyga.GeneticAlgorithm(data)\n",
    "\n",
    "# Set fitness function\n",
    "def fitness(individual, data):\n",
    "  fitness = 0\n",
    "  # Only pairs of fruit are valid\n",
    "  if individual.count(1) == 2:\n",
    "    # Calculate the fitness according to the fruit nutritive value\n",
    "    for (selected, (fruit, profit)) in zip(individual, data):\n",
    "      if selected:\n",
    "        fitness += profit\n",
    "  return fitness\n",
    "ga.fitness_function = fitness\n",
    "\n",
    "# Run evolution\n",
    "ga.run()\n",
    "# Get best individualbest_individual\n",
    "result = ga.best_individual()\n",
    "\n",
    "# Prepare result to be printed\n",
    "def prepare_result(result):\n",
    "  profit, individual = result\n",
    "  pair = []\n",
    "  for i, gene in enumerate(individual):\n",
    "    if gene == 1:\n",
    "      pair.append(data[i])\n",
    "  return pair\n",
    "\n",
    "# Print result\n",
    "print('The pair of fruits with the highest nutritional value is: {}'\n",
    "  .format(prepare_result(result)))"
   ]
  }
 ],
 "metadata": {
  "kernelspec": {
   "display_name": "Python 3",
   "language": "python",
   "name": "python3"
  },
  "language_info": {
   "codemirror_mode": {
    "name": "ipython",
    "version": 3
   },
   "file_extension": ".py",
   "mimetype": "text/x-python",
   "name": "python",
   "nbconvert_exporter": "python",
   "pygments_lexer": "ipython3",
   "version": "3.8.2"
  }
 },
 "nbformat": 4,
 "nbformat_minor": 4
}
